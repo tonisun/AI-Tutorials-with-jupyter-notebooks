{
  "nbformat": 4,
  "nbformat_minor": 0,
  "metadata": {
    "colab": {
      "name": "TensorFlow2.ipynb",
      "provenance": [],
      "collapsed_sections": [],
      "toc_visible": true,
      "authorship_tag": "ABX9TyM3XcKRGsaKmfuPlqPwW+SN",
      "include_colab_link": true
    },
    "kernelspec": {
      "name": "python3",
      "display_name": "Python 3"
    }
  },
  "cells": [
    {
      "cell_type": "markdown",
      "metadata": {
        "id": "view-in-github",
        "colab_type": "text"
      },
      "source": [
        "<a href=\"https://colab.research.google.com/github/tonisun/AI-Tutorials-with-jupyter-notebooks/blob/master/TensorFlow2.ipynb\" target=\"_parent\"><img src=\"https://colab.research.google.com/assets/colab-badge.svg\" alt=\"Open In Colab\"/></a>"
      ]
    },
    {
      "cell_type": "markdown",
      "metadata": {
        "id": "DRSzXXj-pCA0",
        "colab_type": "text"
      },
      "source": [
        "# <a id='0'>[<img align=\"left\" src=\"https://dev.egosanto.de/images/back2.png\" width='40'>](#0)</a> TensorFlow 2.x\n",
        "\n",
        "<img align='right' src='https://i1.wp.com/talkai.blog/wp-content/uploads/2019/03/tensorflow-2.0.jpg?zoom=2&resize=1068%2C694' width='550'/>\n",
        "\n"
      ]
    },
    {
      "cell_type": "markdown",
      "metadata": {
        "colab_type": "text",
        "id": "MRI5jB6MsOlW"
      },
      "source": [
        "## [<img align=\"left\" id=\"0\" src=\"https://dev.egosanto.de/images/back2.png\" width=40>](#0) TensorFlow 2.0 Introduction<a id=\"1\"></a>\n",
        "\n",
        "- https://www.tensorflow.org/guide\n",
        "- https://www.tensorflow.org/tutorials\n",
        "\n",
        "To install TensorFlow on your local machine you can use pip.\n",
        "```console\n",
        "pip install tensorflow\n",
        "```\n",
        "![alt text](https://)If you have a CUDA enabled GPU you can install the GPU version of TensorFlow. You will also need to install some other software which can be found here: \n",
        "- https://www.tensorflow.org/install/gpu \n",
        "```console\n",
        "pip install tensorflow-gpu\n",
        "```\n"
      ]
    },
    {
      "cell_type": "markdown",
      "metadata": {
        "id": "vMNfHNoas-P0",
        "colab_type": "text"
      },
      "source": [
        "## [<img align=\"left\" id=\"0\" src=\"https://dev.egosanto.de/images/back2.png\" width=40>](#0) Importing TensorFlow<a id=\"2\"></a><br>"
      ]
    },
    {
      "cell_type": "code",
      "metadata": {
        "id": "aAF1O3eUn2Zi",
        "colab_type": "code",
        "colab": {}
      },
      "source": [
        "%tensorflow_version 2.x"
      ],
      "execution_count": null,
      "outputs": []
    },
    {
      "cell_type": "code",
      "metadata": {
        "id": "yblIBXsSoYxQ",
        "colab_type": "code",
        "colab": {
          "base_uri": "https://localhost:8080/",
          "height": 35
        },
        "outputId": "879b09f5-e2d3-4598-cc4a-e99cb6390c38"
      },
      "source": [
        "import tensorflow as tf\n",
        "print(tf.version)"
      ],
      "execution_count": null,
      "outputs": [
        {
          "output_type": "stream",
          "text": [
            "<module 'tensorflow._api.v2.version' from '/usr/local/lib/python3.6/dist-packages/tensorflow/_api/v2/version/__init__.py'>\n"
          ],
          "name": "stdout"
        }
      ]
    },
    {
      "cell_type": "markdown",
      "metadata": {
        "id": "rb0VLJZ6twXk",
        "colab_type": "text"
      },
      "source": [
        "## [<img align=\"left\" id=\"0\" src=\"https://dev.egosanto.de/images/back2.png\" width=40>](#0) Tensors<a id=\"3\"></a>\n",
        "\n",
        "Tensor is a Scalar, Vector if has one value in.\n",
        "\n",
        "- https://en.wikipedia.org/wiki/Tensor\n",
        "- https://www.tensorflow.org/guide/tensor\n",
        "\n",
        "Each tensor has a data type and a shape. \n",
        "\n",
        "**Data Types Include**: float32, int32, string and others.\n",
        "\n",
        "**Shape**: Represents the dimension of data.\n",
        "\n",
        "Just like vectors and matrices tensors can have operations applied to them like addition, subtraction, dot product, cross product etc."
      ]
    },
    {
      "cell_type": "markdown",
      "metadata": {
        "id": "ZYMfziFyzzZv",
        "colab_type": "text"
      },
      "source": [
        "### [<img align=\"left\" id=\"0\" src=\"https://dev.egosanto.de/images/back2.png\" width=40>](#0) Creating Variables `tf.Variables()`<a id=\"3.1\"></a>\n",
        "\n",
        "- https://www.tensorflow.org/guide/variable\n",
        "- https://www.tensorflow.org/api_docs/python/tf/dtypes\n",
        "- https://de.mathworks.com/company/newsletters/articles/what-is-int8-quantization-and-why-is-it-popular-for-deep-neural-networks.html"
      ]
    },
    {
      "cell_type": "code",
      "metadata": {
        "id": "nZrfF1scokcT",
        "colab_type": "code",
        "colab": {
          "base_uri": "https://localhost:8080/",
          "height": 35
        },
        "outputId": "4e0e9651-11f5-4e0f-df22-43948471a419"
      },
      "source": [
        "v1 = tf.Variable(2147483647)\n",
        "v1\n",
        "# <tf.Variable 'Variable:0' shape=(1, 1) dtype=int32, numpy=array(2147483647, dtype=int32)>\n",
        "# for my System is default int Type 32 Bit (dtype=int32)"
      ],
      "execution_count": null,
      "outputs": [
        {
          "output_type": "execute_result",
          "data": {
            "text/plain": [
              "<tf.Variable 'Variable:0' shape=() dtype=int32, numpy=2147483647>"
            ]
          },
          "metadata": {
            "tags": []
          },
          "execution_count": 4
        }
      ]
    },
    {
      "cell_type": "code",
      "metadata": {
        "id": "Dc_nlwTXngYq",
        "colab_type": "code",
        "colab": {
          "base_uri": "https://localhost:8080/",
          "height": 35
        },
        "outputId": "8b6d4f5b-8e2b-428d-ff89-312d6cc0883b"
      },
      "source": [
        "# A scalar, shape: []\n",
        "v1.shape"
      ],
      "execution_count": null,
      "outputs": [
        {
          "output_type": "execute_result",
          "data": {
            "text/plain": [
              "TensorShape([])"
            ]
          },
          "metadata": {
            "tags": []
          },
          "execution_count": 5
        }
      ]
    },
    {
      "cell_type": "code",
      "metadata": {
        "id": "9JsVkEMOxph2",
        "colab_type": "code",
        "colab": {
          "base_uri": "https://localhost:8080/",
          "height": 35
        },
        "outputId": "16d34b23-ae23-4d7c-a37c-d0be73ce6007"
      },
      "source": [
        "# Rank = 0\n",
        "tf.rank(v1)"
      ],
      "execution_count": null,
      "outputs": [
        {
          "output_type": "execute_result",
          "data": {
            "text/plain": [
              "<tf.Tensor: shape=(), dtype=int32, numpy=0>"
            ]
          },
          "metadata": {
            "tags": []
          },
          "execution_count": 6
        }
      ]
    },
    {
      "cell_type": "markdown",
      "metadata": {
        "id": "F6sGBMB7czA9",
        "colab_type": "text"
      },
      "source": [
        "Represents the type of the elements in a Tensor.\n",
        "\n",
        "The following DType objects are defined:\n",
        "* `tf.float16`: 16-bit half-precision floating-point.  \n",
        "* `tf.float32`: 32-bit single-precision floating-point.  \n",
        "* `tf.float64`: 64-bit double-precision floating-point.  \n",
        "* `tf.bfloat16`: 16-bit truncated floating-point.  \n",
        "* `tf.complex64`: 64-bit single-precision complex.  \n",
        "* `tf.complex128`: 128-bit double-precision complex.  \n",
        "* `tf.int8`: 8-bit signed integer.  \n",
        "* `tf.uint8`: 8-bit unsigned integer.  \n",
        "* `tf.uint16`: 16-bit unsigned integer.  \n",
        "* `tf.uint32`: 32-bit unsigned integer.  \n",
        "* `tf.uint64`: 64-bit unsigned integer.  \n",
        "* `tf.int16`: 16-bit signed integer.  \n",
        "* `tf.int32`: 32-bit signed integer.  \n",
        "* `tf.int64`: 64-bit signed integer.  \n",
        "* `tf.bool`: Boolean.  \n",
        "* `tf.string`: String.  \n",
        "* `tf.qint8`: Quantized 8-bit signed integer.  \n",
        "* `tf.quint8`: Quantized 8-bit unsigned integer.  \n",
        "* `tf.qint16`: Quantized 16-bit signed integer.  \n",
        "* `tf.quint16`: Quantized 16-bit unsigned integer.  \n",
        "* `tf.qint32`: Quantized 32-bit signed integer.  \n",
        "* `tf.resource`: Handle to a mutable resource.  \n",
        "* `tf.variant`: Values of arbitrary types.  \n",
        "\n",
        "The tf.as_dtype() function converts numpy types and string type names to a DType object."
      ]
    },
    {
      "cell_type": "markdown",
      "metadata": {
        "id": "GinHpXrfXm2X",
        "colab_type": "text"
      },
      "source": [
        "|Bit|Name|Sign|min .. max|Decimal places|\n",
        "|---|---|---|---|---|\n",
        "|8|`int8`|signed|`-128` .. `127`|3|\n",
        "|8|`qint8`|signed|`-128` .. `127`|3|\n",
        "|8|`uint8`|unsigned|`0` .. `255`|3|\n",
        "|8|`quint8`|unsigned|`0` .. `255`|3|"
      ]
    },
    {
      "cell_type": "code",
      "metadata": {
        "id": "JaT3V3WTUI5w",
        "colab_type": "code",
        "colab": {
          "base_uri": "https://localhost:8080/",
          "height": 35
        },
        "outputId": "0354cfe6-f092-4bd2-8d8c-17d46ea9de60"
      },
      "source": [
        "# tf Datatype 8 Bit int int8(-128 .. 127)\n",
        "# tf \n",
        "v2 = tf.Variable(0, dtype=tf.quint8)\n",
        "v2"
      ],
      "execution_count": null,
      "outputs": [
        {
          "output_type": "execute_result",
          "data": {
            "text/plain": [
              "<tf.Variable 'Variable:0' shape=() dtype=quint8, numpy=0>"
            ]
          },
          "metadata": {
            "tags": []
          },
          "execution_count": 22
        }
      ]
    },
    {
      "cell_type": "code",
      "metadata": {
        "id": "s-v0oCVgnqN3",
        "colab_type": "code",
        "colab": {
          "base_uri": "https://localhost:8080/",
          "height": 35
        },
        "outputId": "b6d3461b-273e-4015-ef1f-ec3b8ffa7068"
      },
      "source": [
        "# A scalar, shape: []\n",
        "v2.shape"
      ],
      "execution_count": null,
      "outputs": [
        {
          "output_type": "execute_result",
          "data": {
            "text/plain": [
              "TensorShape([])"
            ]
          },
          "metadata": {
            "tags": []
          },
          "execution_count": 8
        }
      ]
    },
    {
      "cell_type": "code",
      "metadata": {
        "id": "gsRDPLqOxTFo",
        "colab_type": "code",
        "colab": {
          "base_uri": "https://localhost:8080/",
          "height": 35
        },
        "outputId": "a8cfb4b9-8814-4e43-f180-f13671d7123b"
      },
      "source": [
        "# Rank = 0\n",
        "tf.rank(v2)"
      ],
      "execution_count": null,
      "outputs": [
        {
          "output_type": "execute_result",
          "data": {
            "text/plain": [
              "<tf.Tensor: shape=(), dtype=int32, numpy=0>"
            ]
          },
          "metadata": {
            "tags": []
          },
          "execution_count": 9
        }
      ]
    },
    {
      "cell_type": "markdown",
      "metadata": {
        "id": "qaK692n-FOQk",
        "colab_type": "text"
      },
      "source": [
        "### [<img align=\"left\" id=\"0\" src=\"https://dev.egosanto.de/images/back2.png\" width=40>](#0) Creating Constants `tf.constant()`<a id=\"3.2\"></a>"
      ]
    },
    {
      "cell_type": "code",
      "metadata": {
        "colab_type": "code",
        "id": "53Trtio3hOdg",
        "colab": {
          "base_uri": "https://localhost:8080/",
          "height": 35
        },
        "outputId": "3502a8c8-ae6c-4856-cf67-8585ea8c09e8"
      },
      "source": [
        "c1 = tf.constant( 3.14)\n",
        "c1"
      ],
      "execution_count": null,
      "outputs": [
        {
          "output_type": "execute_result",
          "data": {
            "text/plain": [
              "<tf.Tensor: shape=(), dtype=float32, numpy=3.14>"
            ]
          },
          "metadata": {
            "tags": []
          },
          "execution_count": 20
        }
      ]
    },
    {
      "cell_type": "code",
      "metadata": {
        "id": "KAslXkQ6EwYo",
        "colab_type": "code",
        "colab": {
          "base_uri": "https://localhost:8080/",
          "height": 35
        },
        "outputId": "07db8861-4836-4ee8-c190-8cc06db96e8e"
      },
      "source": [
        "c1 = tf.constant( 3.14, dtype=tf.float16)\n",
        "c1"
      ],
      "execution_count": null,
      "outputs": [
        {
          "output_type": "execute_result",
          "data": {
            "text/plain": [
              "<tf.Tensor: shape=(), dtype=float16, numpy=3.14>"
            ]
          },
          "metadata": {
            "tags": []
          },
          "execution_count": 21
        }
      ]
    },
    {
      "cell_type": "code",
      "metadata": {
        "id": "XhhTrDLvuO96",
        "colab_type": "code",
        "colab": {
          "base_uri": "https://localhost:8080/",
          "height": 35
        },
        "outputId": "e49befa8-1694-4b31-a029-802add11a828"
      },
      "source": [
        "# A scalar, shape: []\n",
        "c1.shape"
      ],
      "execution_count": null,
      "outputs": [
        {
          "output_type": "execute_result",
          "data": {
            "text/plain": [
              "TensorShape([])"
            ]
          },
          "metadata": {
            "tags": []
          },
          "execution_count": 11
        }
      ]
    },
    {
      "cell_type": "code",
      "metadata": {
        "id": "s9epbS-SyJuO",
        "colab_type": "code",
        "colab": {
          "base_uri": "https://localhost:8080/",
          "height": 35
        },
        "outputId": "5d33b6f8-3e33-4c15-e6dd-38ec36b3a6c5"
      },
      "source": [
        "# Rank = 0\n",
        "tf.rank(c1)"
      ],
      "execution_count": null,
      "outputs": [
        {
          "output_type": "execute_result",
          "data": {
            "text/plain": [
              "<tf.Tensor: shape=(), dtype=int32, numpy=0>"
            ]
          },
          "metadata": {
            "tags": []
          },
          "execution_count": 12
        }
      ]
    },
    {
      "cell_type": "code",
      "metadata": {
        "id": "QZjjvZI18U1v",
        "colab_type": "code",
        "colab": {
          "base_uri": "https://localhost:8080/",
          "height": 35
        },
        "outputId": "929f3a7f-1316-4b8a-d53c-7568bfd8b374"
      },
      "source": [
        "v1 = tf.Variable([2.0,3.0,4.0])\n",
        "v1"
      ],
      "execution_count": null,
      "outputs": [
        {
          "output_type": "execute_result",
          "data": {
            "text/plain": [
              "<tf.Variable 'Variable:0' shape=(3,) dtype=float32, numpy=array([2., 3., 4.], dtype=float32)>"
            ]
          },
          "metadata": {
            "tags": []
          },
          "execution_count": 13
        }
      ]
    },
    {
      "cell_type": "markdown",
      "metadata": {
        "id": "1DYDYARztUQH",
        "colab_type": "text"
      },
      "source": [
        "\n",
        "<img src='https://www.tensorflow.org/guide/images/tensor/vector.png' width='150'/>"
      ]
    },
    {
      "cell_type": "code",
      "metadata": {
        "id": "6o4NHEYUmxAp",
        "colab_type": "code",
        "colab": {
          "base_uri": "https://localhost:8080/",
          "height": 35
        },
        "outputId": "aa49863f-52c6-4a99-abc2-610a50cd754d"
      },
      "source": [
        "# A vector, shape: [3]\n",
        "v1.shape"
      ],
      "execution_count": null,
      "outputs": [
        {
          "output_type": "execute_result",
          "data": {
            "text/plain": [
              "TensorShape([3])"
            ]
          },
          "metadata": {
            "tags": []
          },
          "execution_count": 14
        }
      ]
    },
    {
      "cell_type": "code",
      "metadata": {
        "id": "B3v7J_BnyUA9",
        "colab_type": "code",
        "colab": {
          "base_uri": "https://localhost:8080/",
          "height": 35
        },
        "outputId": "46951efc-128a-4044-c7f2-a9a9cdb1d2ce"
      },
      "source": [
        "# Rank = 1\n",
        "tf.rank(v1)"
      ],
      "execution_count": null,
      "outputs": [
        {
          "output_type": "execute_result",
          "data": {
            "text/plain": [
              "<tf.Tensor: shape=(), dtype=int32, numpy=1>"
            ]
          },
          "metadata": {
            "tags": []
          },
          "execution_count": 15
        }
      ]
    },
    {
      "cell_type": "code",
      "metadata": {
        "id": "bXJyJSfzsMBI",
        "colab_type": "code",
        "colab": {
          "base_uri": "https://localhost:8080/",
          "height": 88
        },
        "outputId": "a9c1f2aa-27d0-436d-c3fc-59daf10c6e53"
      },
      "source": [
        "v1 = tf.Variable([[1, 2],\n",
        "                  [3, 4],\n",
        "                  [5, 6]], dtype=tf.float16)\n",
        "v1"
      ],
      "execution_count": null,
      "outputs": [
        {
          "output_type": "execute_result",
          "data": {
            "text/plain": [
              "<tf.Variable 'Variable:0' shape=(3, 2) dtype=float16, numpy=\n",
              "array([[1., 2.],\n",
              "       [3., 4.],\n",
              "       [5., 6.]], dtype=float16)>"
            ]
          },
          "metadata": {
            "tags": []
          },
          "execution_count": 16
        }
      ]
    },
    {
      "cell_type": "markdown",
      "metadata": {
        "id": "9hugOGHFs_Kw",
        "colab_type": "text"
      },
      "source": [
        "<img src='https://www.tensorflow.org/guide/images/tensor/matrix.png' width='150'/>"
      ]
    },
    {
      "cell_type": "code",
      "metadata": {
        "id": "E44xMaSJrzS3",
        "colab_type": "code",
        "colab": {
          "base_uri": "https://localhost:8080/",
          "height": 35
        },
        "outputId": "4f5bb543-b6d0-4d19-b7fc-c3639e7be475"
      },
      "source": [
        "#A matrix, shape: [3, 2]\n",
        "v1.shape"
      ],
      "execution_count": null,
      "outputs": [
        {
          "output_type": "execute_result",
          "data": {
            "text/plain": [
              "TensorShape([3, 2])"
            ]
          },
          "metadata": {
            "tags": []
          },
          "execution_count": 17
        }
      ]
    },
    {
      "cell_type": "code",
      "metadata": {
        "id": "HANrumc8s0cH",
        "colab_type": "code",
        "colab": {
          "base_uri": "https://localhost:8080/",
          "height": 35
        },
        "outputId": "54c94b23-0e0a-4d41-e880-34462a269ca4"
      },
      "source": [
        "# Rank = (2)\n",
        "tf.rank(v1)"
      ],
      "execution_count": null,
      "outputs": [
        {
          "output_type": "execute_result",
          "data": {
            "text/plain": [
              "<tf.Tensor: shape=(), dtype=int32, numpy=2>"
            ]
          },
          "metadata": {
            "tags": []
          },
          "execution_count": 18
        }
      ]
    },
    {
      "cell_type": "markdown",
      "metadata": {
        "id": "Xlvm2NUU9v66",
        "colab_type": "text"
      },
      "source": [
        "### [<img align=\"left\" id=\"0\" src=\"https://dev.egosanto.de/images/back2.png\" width=40>](#0) Rank/Degree of Tensors<a id=\"3.2\"></a>"
      ]
    },
    {
      "cell_type": "code",
      "metadata": {
        "id": "hTar-7oQ98Ip",
        "colab_type": "code",
        "colab": {}
      },
      "source": [
        ""
      ],
      "execution_count": null,
      "outputs": []
    },
    {
      "cell_type": "code",
      "metadata": {
        "id": "AMGN5_T5wMJB",
        "colab_type": "code",
        "colab": {}
      },
      "source": [
        ""
      ],
      "execution_count": null,
      "outputs": []
    }
  ]
}